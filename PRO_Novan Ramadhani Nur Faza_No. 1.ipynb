{
 "cells": [
  {
   "cell_type": "code",
   "execution_count": 1,
   "id": "5aebe6e6",
   "metadata": {},
   "outputs": [],
   "source": [
    "import numpy as np\n",
    "import matplotlib.pyplot as plt\n",
    "from sympy import *"
   ]
  },
  {
   "cell_type": "code",
   "execution_count": 2,
   "id": "cac10e92",
   "metadata": {},
   "outputs": [
    {
     "data": {
      "text/plain": [
       "Text(0, 0.5, '$y$')"
      ]
     },
     "execution_count": 2,
     "metadata": {},
     "output_type": "execute_result"
    },
    {
     "data": {
      "image/png": "[encoded data removed]",
      "text/plain": [
       "<Figure size 432x288 with 1 Axes>"
      ]
     },
     "metadata": {
      "needs_background": "light"
     },
     "output_type": "display_data"
    }
   ],
   "source": [
    "d = np.linspace(0, 100, 2000)\n",
    "x,y = np.meshgrid(d,d)\n",
    "plt.imshow( ((x>=20) & (x+y>=170) & (y>=30) & (x<=100) & (y<=80)).astype(int) ,\n",
    "                extent=(x.min(),x.max(),y.min(),y.max()),\n",
    "                origin=\"lower\",\n",
    "                cmap=\"Greens\",\n",
    "                alpha=1);\n",
    "\n",
    "x = np.linspace(0, 100, 2000)\n",
    "y = np.linspace(0, 100, 2000)\n",
    "x1 = 20\n",
    "y1 = 170-x\n",
    "y2 = 30\n",
    "x2 = 100\n",
    "y3 = 80\n",
    "\n",
    "plt.plot(x1, label=r'$x+y\\geq20$')\n",
    "plt.plot(y2, label=r'$y+x\\geq30$')\n",
    "plt.plot(x2, label=r'$x+x\\leq100$')\n",
    "plt.plot(y3, label=r'$y+x\\leq80$')\n",
    "plt.plot(x, y1, label=r'$x+y\\geq170$')\n",
    "plt.xlim(50,100)\n",
    "plt.ylim(50,90)\n",
    "plt.legend(bbox_to_anchor=(1.05, 1), loc=2, borderaxespad=0)\n",
    "plt.xlabel(r'$x$')\n",
    "plt.ylabel(r'$y$')"
   ]
  },
  {
   "cell_type": "code",
   "execution_count": 3,
   "id": "5d8960d5",
   "metadata": {},
   "outputs": [
    {
     "data": {
      "text/latex": [
       "$\\displaystyle x + y = 170$"
      ],
      "text/plain": [
       "Eq(x + y, 170)"
      ]
     },
     "metadata": {},
     "output_type": "display_data"
    },
    {
     "data": {
      "text/latex": [
       "$\\displaystyle y = 30$"
      ],
      "text/plain": [
       "Eq(y, 30)"
      ]
     },
     "metadata": {},
     "output_type": "display_data"
    },
    {
     "data": {
      "text/latex": [
       "$\\displaystyle y = 80$"
      ],
      "text/plain": [
       "Eq(y, 80)"
      ]
     },
     "metadata": {},
     "output_type": "display_data"
    },
    {
     "data": {
      "text/latex": [
       "$\\displaystyle x = 100$"
      ],
      "text/plain": [
       "Eq(x, 100)"
      ]
     },
     "metadata": {},
     "output_type": "display_data"
    },
    {
     "data": {
      "text/latex": [
       "$\\displaystyle x = 20$"
      ],
      "text/plain": [
       "Eq(x, 20)"
      ]
     },
     "metadata": {},
     "output_type": "display_data"
    }
   ],
   "source": [
    "# Definisikan fungsi kendala dan objektif\n",
    "x, y = symbols('x y')\n",
    "Eqn=[]\n",
    "Eqn.append(Eq(x+y,170))\n",
    "Eqn.append(Eq(y,30))\n",
    "Eqn.append(Eq(y,80))\n",
    "Eqn.append(Eq(x,100))\n",
    "Eqn.append(Eq(x,20))\n",
    "\n",
    "obj = 50000*x+60000*y\n",
    "\n",
    "z=[]\n",
    "for i in range(5):\n",
    "    display(Eqn[i])"
   ]
  },
  {
   "cell_type": "code",
   "execution_count": 4,
   "id": "ec313bd9",
   "metadata": {},
   "outputs": [
    {
     "data": {
      "text/plain": [
       "{x: 90, y: 80}"
      ]
     },
     "metadata": {},
     "output_type": "display_data"
    },
    {
     "data": {
      "text/latex": [
       "$\\displaystyle 9300000$"
      ],
      "text/plain": [
       "9300000"
      ]
     },
     "metadata": {},
     "output_type": "display_data"
    },
    {
     "data": {
      "text/plain": [
       "{y: 80, x: 100}"
      ]
     },
     "metadata": {},
     "output_type": "display_data"
    },
    {
     "data": {
      "text/latex": [
       "$\\displaystyle 9800000$"
      ],
      "text/plain": [
       "9800000"
      ]
     },
     "metadata": {},
     "output_type": "display_data"
    },
    {
     "data": {
      "text/plain": [
       "{x: 100, y: 70}"
      ]
     },
     "metadata": {},
     "output_type": "display_data"
    },
    {
     "data": {
      "text/latex": [
       "$\\displaystyle 9200000$"
      ],
      "text/plain": [
       "9200000"
      ]
     },
     "metadata": {},
     "output_type": "display_data"
    }
   ],
   "source": [
    "result = solve((Eqn[0],Eqn[2]), (x,y))\n",
    "\n",
    "z.append(obj.subs(result))\n",
    "display(result)\n",
    "display(z[0])\n",
    "\n",
    "result = solve((Eqn[2],Eqn[3]), (x,y))\n",
    "\n",
    "z.append(obj.subs(result))\n",
    "display(result)\n",
    "display(z[1])\n",
    "\n",
    "result = solve((Eqn[0],Eqn[3]), (x,y))\n",
    "\n",
    "z.append(obj.subs(result))\n",
    "display(result)\n",
    "display(z[2])"
   ]
  },
  {
   "cell_type": "code",
   "execution_count": 5,
   "id": "5010e3c6",
   "metadata": {},
   "outputs": [
    {
     "data": {
      "text/plain": [
       "[9300000, 9800000, 9200000]"
      ]
     },
     "metadata": {},
     "output_type": "display_data"
    },
    {
     "data": {
      "text/latex": [
       "$\\displaystyle 9200000$"
      ],
      "text/plain": [
       "9200000"
      ]
     },
     "metadata": {},
     "output_type": "display_data"
    }
   ],
   "source": [
    "display(z)\n",
    "display(min(z))"
   ]
  },
  {
   "cell_type": "code",
   "execution_count": null,
   "id": "afa454db",
   "metadata": {},
   "outputs": [],
   "source": []
  }
 ],
 "metadata": {
  "kernelspec": {
   "display_name": "Python 3 (ipykernel)",
   "language": "python",
   "name": "python3"
  },
  "language_info": {
   "codemirror_mode": {
    "name": "ipython",
    "version": 3
   },
   "file_extension": ".py",
   "mimetype": "text/x-python",
   "name": "python",
   "nbconvert_exporter": "python",
   "pygments_lexer": "ipython3",
   "version": "3.11.2"
  }
 },
 "nbformat": 4,
 "nbformat_minor": 5
}
